{
 "metadata": {
  "name": "text_classification_demo"
 },
 "nbformat": 3,
 "nbformat_minor": 0,
 "worksheets": [
  {
   "cells": [
    {
     "cell_type": "code",
     "collapsed": false,
     "input": [
      "# load dataset\n",
      "from sklearn.datasets import fetch_20newsgroups\n",
      "train = fetch_20newsgroups(subset='train')\n",
      "test = fetch_20newsgroups(subset='test')"
     ],
     "language": "python",
     "metadata": {},
     "outputs": [],
     "prompt_number": 7
    },
    {
     "cell_type": "code",
     "collapsed": false,
     "input": [
      "#observe the freqency of keyword\n",
      "import re\n",
      "def to_unicode(string):\n",
      "    if type(string) == str:\n",
      "        return string.decode('utf8')\n",
      "    elif type(string):\n",
      "        return string\n",
      "    else:\n",
      "        raise TypeError('wrong type for string')\n",
      "\n",
      "from collections import Counter\n",
      "count = Counter()\n",
      "for article in train.data:\n",
      "    article = to_unicode(article)\n",
      "    regex = re.compile(u'^(\\w+): .*$')\n",
      "    for line in article.split('\\n'):\n",
      "        match = regex.match(line)\n",
      "        if match is not None:\n",
      "            count[match.groups()[0]] += 1\n",
      "\n",
      "print 'Keyword\\tCount'\n",
      "for key, value in count.items():\n",
      "    if value >= 100:\n",
      "        print '%s\\t' % key, value"
     ],
     "language": "python",
     "metadata": {},
     "outputs": [
      {
       "output_type": "stream",
       "stream": "stdout",
       "text": [
        "Keyword\tCount\n",
        "Distribution\t2549\n",
        "Summary\t397\n",
        "Disclaimer\t125\n",
        "File\t257\n",
        "Expires\t116\n",
        "Subject\t11612\n",
        "From\t11398\n",
        "Keywords\t943\n",
        "Originator\t291\n",
        "Organization\t10872\n",
        "Lines\t11317\n",
        "Internet\t140\n",
        "To\t106\n"
       ]
      }
     ],
     "prompt_number": 26
    },
    {
     "cell_type": "code",
     "collapsed": false,
     "input": [
      "# extract feature from structured data\n",
      "def parse_text(article):\n",
      "    regex = re.compile(u'^Lines: [0-9]+$')\n",
      "    for line in article.split('\\n'):\n",
      "        if regex.match(line) is not None:\n",
      "            return True\n",
      "    return False\n",
      "\n",
      "def get_field(field_name, article):\n",
      "    regex = re.compile(u'^%s: (.*)$' % field_name)\n",
      "    for line in article.split('\\n'):\n",
      "        match = regex.match(line)\n",
      "        if match is not None:\n",
      "            return match.groups()[0]\n",
      "    return None\n",
      "\n",
      "features = ['From', 'Subject', 'Organization', 'Distribution', 'Lines']\n",
      "for article in train.data[:6]:\n",
      "    article = to_unicode(article)\n",
      "    for feature in features:\n",
      "        print '%s:' % (feature) , get_field(feature, article)\n",
      "    print"
     ],
     "language": "python",
     "metadata": {},
     "outputs": [
      {
       "output_type": "stream",
       "stream": "stdout",
       "text": [
        "From: lerxst@wam.umd.edu (where's my thing)\n",
        "Subject: WHAT car is this!?\n",
        "Organization: University of Maryland, College Park\n",
        "Distribution: None\n",
        "Lines: 15\n",
        "\n",
        "From: guykuo@carson.u.washington.edu (Guy Kuo)\n",
        "Subject: SI Clock Poll - Final Call\n",
        "Organization: University of Washington\n",
        "Distribution: None\n",
        "Lines: 11\n",
        "\n",
        "From: twillis@ec.ecn.purdue.edu (Thomas E Willis)\n",
        "Subject: PB questions...\n",
        "Organization: Purdue University Engineering Computer Network\n",
        "Distribution: usa\n",
        "Lines: 36\n",
        "\n",
        "From: jgreen@amber (Joe Green)\n",
        "Subject: Re: Weitek P9000 ?\n",
        "Organization: Harris Computer Systems Division\n",
        "Distribution: world\n",
        "Lines: 14\n",
        "\n",
        "From: jcm@head-cfa.harvard.edu (Jonathan McDowell)\n",
        "Subject: Re: Shuttle Launch Question\n",
        "Organization: Smithsonian Astrophysical Observatory, Cambridge, MA,  USA\n",
        "Distribution: sci\n",
        "Lines: 23\n",
        "\n",
        "From: dfo@vttoulu.tko.vtt.fi (Foxvog Douglas)\n",
        "Subject: Re: Rewording the Second Amendment (ideas)\n",
        "Organization: VTT\n",
        "Distribution: None\n",
        "Lines: 58\n",
        "\n"
       ]
      }
     ],
     "prompt_number": 9
    },
    {
     "cell_type": "code",
     "collapsed": false,
     "input": [
      "#generate feature matrix from structure data\n",
      "import numpy as np\n",
      "from sklearn.feature_extraction import DictVectorizer\n",
      "\n",
      "def to_major_key_vec(vec, threshold):\n",
      "    '''\n",
      "    :py:param vec: [token]\n",
      "    :return: [{token: 1}]\n",
      "    '''\n",
      "    major_keys = []\n",
      "    count = Counter()\n",
      "    for key in vec:\n",
      "        count[key] += 1\n",
      "    major_keys = set([key for key, value in count.items() if value > threshold])\n",
      "    vec_major_keys = []\n",
      "    for key in vec:\n",
      "        if key in major_keys:\n",
      "            vec_major_keys.append({key: 1})\n",
      "        else:\n",
      "            vec_major_keys.append({None: 1})\n",
      "    return vec_major_keys\n",
      "\n",
      "def get_feature_matrix(articles, features, threshold, vectorizers=None):\n",
      "    matrix = None\n",
      "    if vectorizers is None:\n",
      "        vectorizers = [DictVectorizer(sparse=False) for i in range(len(features))]\n",
      "    for feature, vctr in zip(features, vectorizers):\n",
      "        vec = [get_field(feature, article) for article in articles]\n",
      "        vec_major_keys = to_major_key_vec(vec, threshold)\n",
      "        try:\n",
      "            vctr.get_feature_names()\n",
      "        except:\n",
      "            vctr.fit(vec_major_keys)\n",
      "        feat_vec = vctr.transform(vec_major_keys)\n",
      "        if matrix is None:\n",
      "            matrix = feat_vec\n",
      "        else:\n",
      "            matrix = np.concatenate((matrix, feat_vec), axis=1)\n",
      "    return matrix, vectorizers\n",
      "    \n"
     ],
     "language": "python",
     "metadata": {},
     "outputs": [],
     "prompt_number": 10
    },
    {
     "cell_type": "code",
     "collapsed": false,
     "input": [
      "def get_text(article):\n",
      "    '''return substring start from the next line of `Lines:` to the end of article.'''\n",
      "    tokens = article.split('Lines:')\n",
      "    if len(tokens) == 2:\n",
      "        tokens = tokens[1].split('\\n')\n",
      "        if len(tokens) > 1:\n",
      "            return '\\n'.join(tokens[1:])\n",
      "    return article\n",
      "        \n",
      "print get_text(train.data[7])"
     ],
     "language": "python",
     "metadata": {},
     "outputs": [
      {
       "output_type": "stream",
       "stream": "stdout",
       "text": [
        "Distribution: world\n",
        "NNTP-Posting-Host: dante.nmsu.edu\n",
        "\n",
        "DXB132@psuvm.psu.edu writes:\n",
        ">In article <1qlbrlINN7rk@dns1.NMSU.Edu>, bgrubb@dante.nmsu.edu (GRUBB) says:\n",
        ">>In PC Magazine April 27, 1993:29 \"Although SCSI is twice as fasst as ESDI,\n",
        ">>20% faster than IDE, and support up to 7 devices its acceptance ...has   \n",
        ">>long been stalled by incompatability problems and installation headaches.\"\n",
        "                                                                      \n",
        ">I love it when magazine writers make stupid statements like that re:      \n",
        ">performance. Where do they get those numbers? I'll list the actual\n",
        ">performance ranges, which should convince anyone that such a               \n",
        ">statement is absurd:                                                     \n",
        ">SCSI-I ranges from 0-5MB/s.                                                \n",
        ">SCSI-II ranges from 0-40MB/s.            \n",
        ">IDE ranges from 0-8.3MB/s.                          \n",
        ">ESDI is always 1.25MB/s (although there are some non-standard versions)\n",
        "ALL this shows is that YOU don't know much about SCSI.\n",
        "\n",
        "SCSI-1 {with a SCSI-1 controler chip} range is indeed 0-5MB/s\n",
        "and that is ALL you have right about SCSI\n",
        "SCSI-1 {With a SCSI-2 controller chip}: 4-6MB/s with 10MB/s burst {8-bit}\n",
        " Note the INCREASE in SPEED, the Mac Quadra uses this version of SCSI-1\n",
        " so it DOES exist. Some PC use this set up too.\n",
        "SCSI-2 {8-bit/SCSI-1 mode}:          4-6MB/s with 10MB/s burst\n",
        "SCSI-2 {16-bit/wide or fast mode}:  8-12MB/s with 20MB/s burst\n",
        "SCSI-2 {32-bit/wide AND fast}:     15-20MB/s with 40MB/s burst\n",
        " \n",
        "By your OWN data the \"Although SCSI is twice as fast as ESDI\" is correct\n",
        "With a SCSI-2 controller chip SCSI-1 can reach 10MB/s which is indeed\n",
        "\"20% faster than IDE\" {120% of 8.3 is 9.96}. ALL these SCSI facts have been\n",
        "posted to this newsgroup in my Mac & IBM info sheet {available by FTP on \n",
        "sumex-aim.stanford.edu (36.44.0.6) in the info-mac/report as \n",
        "mac-ibm-compare[version #].txt (It should be 173 but 161 may still be there)}\n",
        "\n",
        "Part of this problem is both Mac and IBM PC are inconsiant about what SCSI\n",
        "is which.  Though it is WELL documented that the Quadra has a SCSI-2 chip\n",
        "an Apple salesperson said \"it uses a fast SCSI-1 chip\" {Not at a 6MB/s,\n",
        "10MB/s burst it does not. SCSI-1 is 5MB/s maximum synchronous and Quadra\n",
        "uses ANsynchronous SCSI which is SLOWER}  It seems that Mac and IBM see\n",
        "SCSI-1 interface and think 'SCSI-1' when it maybe a SCSI-1 interface driven\n",
        "in the machine by a SCSi-2 controller chip in 8-bit mode {Which is MUCH\n",
        "FASTER then true SCSI-1 can go}.\n",
        "\n",
        "Don't slam an article because you don't understand what is going on.\n",
        "One reference for the Quadra's SCSI-2 controller chip is \n",
        "(Digital Review, Oct 21, 1991 v8 n33 p8(1)).\n",
        "\n"
       ]
      }
     ],
     "prompt_number": 11
    },
    {
     "cell_type": "code",
     "collapsed": false,
     "input": [
      "# evaluation by cross validation\n",
      "from sklearn.feature_extraction.text import TfidfVectorizer\n",
      "from sklearn.cross_validation import KFold\n",
      "from sklearn.svm import LinearSVC\n",
      "from sklearn.metrics import precision_score, recall_score, f1_score, precision_recall_fscore_support\n",
      "from pandas import Series\n",
      "import matplotlib.pyplot as plt\n",
      "\n",
      "def do_cross_validation(k_fold, verbose=False):\n",
      "    precisions, recalls, f1s = Series(), Series(), Series()\n",
      "    for train_index, test_index in k_fold:\n",
      "        # get articles of this fold\n",
      "        train_data = [x for (i, x) in enumerate(train.data) if i in train_index]\n",
      "        test_data = [x for (i, x) in enumerate(train.data) if i in test_index]\n",
      "        if verbose:\n",
      "            print '# of (train/test): %d/%d' % (len(train_data), len(test_data))\n",
      "            \n",
      "        # feature extraction from structured data\n",
      "        X_train, vctrs = get_feature_matrix(train_data, features, 1)\n",
      "        X_test, vctrs = get_feature_matrix(test_data, features, 1, vctrs)\n",
      "        if verbose:\n",
      "            print 'X.shape of (train/test): %s/%s' % (X_train.shape, X_test.shape)\n",
      "        \n",
      "        # feature extraction from text\n",
      "        train_text = map(get_text, train_data)\n",
      "        test_text = map(get_text, test_data)\n",
      "        vctr = TfidfVectorizer()\n",
      "        vctr.fit(train_text)\n",
      "        X_train = np.concatenate((X_train, vctr.transform(train_text).toarray()), axis=1)\n",
      "        X_test = np.concatenate((X_test, vctr.transform(test_text).toarray()), axis=1)\n",
      "        Y_train, Y_test = train.target[train_index], train.target[test_index]\n",
      "        \n",
      "        # model training and evaluation\n",
      "        svc = LinearSVC()\n",
      "        svc.fit(X_train, Y_train)\n",
      "        Y_predict = svc.predict(X_test)\n",
      "        precisions = precisions.set_value(k_fold.n, precision_score(Y_test, Y_predict))\n",
      "        recalls = recalls.set_value(k_fold.n, recall_score(Y_test, Y_predict))\n",
      "        f1s = f1s.set_value(k_fold.n, f1_score(Y_test, Y_predict))\n",
      "        if verbose:\n",
      "            print precision_score(Y_test, Y_predict), recall_score(Y_test, Y_predict), f1_score(Y_test, Y_predict)\n",
      "    return precisions.mean(), recalls.mean(), f1s.mean()\n",
      "        \n",
      "fig, axs = plt.subplots(1, 3)\n",
      "fig.set_figwidth(15)\n",
      "precisions, recalls, f1s = Series(), Series(), Series()\n",
      "for n in range(100, 2000, 100):\n",
      "    prec, recl, f1 = do_cross_validation(KFold(n, 5), False)\n",
      "    precisions = precisions.set_value(n, prec)\n",
      "    recalls = recalls.set_value(n, recl)\n",
      "    f1s = f1s.set_value(n, f1)\n",
      "\n",
      "precisions.plot(ax=axs[0], title='Precision')\n",
      "recalls.plot(ax=axs[1], title='Recall')\n",
      "f1s.plot(ax=axs[2], title='F1')"
     ],
     "language": "python",
     "metadata": {},
     "outputs": [
      {
       "output_type": "pyout",
       "prompt_number": 21,
       "text": [
        "<matplotlib.axes.AxesSubplot at 0x5518990>"
       ]
      },
      {
       "output_type": "display_data",
       "png": "[encoded data removed]"
      }
     ],
     "prompt_number": 21
    },
    {
     "cell_type": "code",
     "collapsed": false,
     "input": [
      "# demo of feature extraction from text\n",
      "from sklearn.feature_extraction.text import TfidfVectorizer\n",
      "vctr = TfidfVectorizer(ngram_range=(2,2))\n",
      "string = 'I was wondering if anyone out there could enlighten me on this car I saw the other day.'\n",
      "print 'Origin:', string\n",
      "print\n",
      "print 'Preprocess:', vctr.build_preprocessor()(string)\n",
      "print\n",
      "print 'Tokenize:', vctr.build_tokenizer()(string)\n",
      "print\n",
      "print 'Analyze:', vctr.build_analyzer()(string)"
     ],
     "language": "python",
     "metadata": {},
     "outputs": [
      {
       "output_type": "stream",
       "stream": "stdout",
       "text": [
        "Origin: I was wondering if anyone out there could enlighten me on this car I saw the other day.\n",
        "\n",
        "Preprocess: i was wondering if anyone out there could enlighten me on this car i saw the other day.\n",
        "\n",
        "Tokenize: ['was', 'wondering', 'if', 'anyone', 'out', 'there', 'could', 'enlighten', 'me', 'on', 'this', 'car', 'saw', 'the', 'other', 'day']\n",
        "\n",
        "Analyze: [u'was wondering', u'wondering if', u'if anyone', u'anyone out', u'out there', u'there could', u'could enlighten', u'enlighten me', u'me on', u'on this', u'this car', u'car saw', u'saw the', u'the other', u'other day']\n"
       ]
      }
     ],
     "prompt_number": 27
    },
    {
     "cell_type": "code",
     "collapsed": false,
     "input": [
      "# demo of evaluation\n",
      "from sklearn.svm import LinearSVC\n",
      "from sklearn.datasets import fetch_20newsgroups_vectorized\n",
      "from sklearn.metrics import precision_score\n",
      "train = fetch_20newsgroups_vectorized()\n",
      "a = LinearSVC()\n",
      "a.fit(train.data[:100], train.target[:100])\n",
      "print a.score(train.data[100:200], train.target[100:200])\n",
      "print precision_score(train.target[100:200], a.predict(train.data[100:200]))"
     ],
     "language": "python",
     "metadata": {},
     "outputs": [
      {
       "output_type": "stream",
       "stream": "stdout",
       "text": [
        "0.24\n",
        "0.2061053245\n"
       ]
      }
     ],
     "prompt_number": 28
    },
    {
     "cell_type": "code",
     "collapsed": false,
     "input": [
      "# demo of cross validation\n",
      "from sklearn.cross_validation import KFold\n",
      "for train_index, test_index in KFold(10, 2):\n",
      "    print train_index\n",
      "    print test_index"
     ],
     "language": "python",
     "metadata": {},
     "outputs": [
      {
       "output_type": "stream",
       "stream": "stdout",
       "text": [
        "[5 6 7 8 9]\n",
        "[0 1 2 3 4]\n",
        "[0 1 2 3 4]\n",
        "[5 6 7 8 9]\n"
       ]
      }
     ],
     "prompt_number": 29
    }
   ],
   "metadata": {}
  }
 ]
}